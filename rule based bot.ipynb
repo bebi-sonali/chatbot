{
 "cells": [
  {
   "cell_type": "code",
   "execution_count": 1,
   "id": "ce292f77-ff2a-460d-a6e4-fc70032abbfa",
   "metadata": {},
   "outputs": [],
   "source": [
    "import re\n",
    "import random"
   ]
  },
  {
   "cell_type": "code",
   "execution_count": null,
   "id": "6fea06a0-efca-40d7-985f-ac52707748a8",
   "metadata": {},
   "outputs": [
    {
     "name": "stdin",
     "output_type": "stream",
     "text": [
      "what is your name?\n",
      " sonali\n",
      "Hi sonali,I am Rule-Bot.Will you help me learn about your planet?\n",
      " no\n"
     ]
    },
    {
     "name": "stdout",
     "output_type": "stream",
     "text": [
      "Ok,have a nice Earth day!\n"
     ]
    },
    {
     "name": "stdin",
     "output_type": "stream",
     "text": [
      "Are there many humans like you?\n",
      " chuck it\n"
     ]
    },
    {
     "name": "stdout",
     "output_type": "stream",
     "text": [
      "Please tell me more.\n",
      "\n"
     ]
    },
    {
     "name": "stdin",
     "output_type": "stream",
     "text": [
      "What planets have you visited?\n",
      " chuck it ,tell me abou intellipat\n"
     ]
    },
    {
     "name": "stdout",
     "output_type": "stream",
     "text": [
      "Tell me more!\n",
      "\n"
     ]
    },
    {
     "name": "stdin",
     "output_type": "stream",
     "text": [
      "Does earth have a leader?\n",
      " yes\n"
     ]
    },
    {
     "name": "stdout",
     "output_type": "stream",
     "text": [
      "why?\n",
      "\n"
     ]
    }
   ],
   "source": [
    "class RuleBot:\n",
    "    negative_responses={'no','nope','nah','naw','not a chance','sorry'}\n",
    "    exit_commands={'quit','pause','exit','goodbye','bye','later'}\n",
    "    random_questions=[\n",
    "        \"why are you here?\",\n",
    "        \"Are there many humans like you?\",\n",
    "        \"Is there intelligent life on this planet?\",\n",
    "        \"Does earth have a leader?\",\n",
    "        \"What planets have you visited?\",\n",
    "        \"what technology do you have on this planet?\"\n",
    "    ]\n",
    "    def __init__(self):\n",
    "        self.aliembabble={'describe_planet_intent':r',\"\\s\"your planet.\"',\n",
    "                             'answer_why_intent':r'why\\sare.',\n",
    "                              'about_intellipat':r',\"\\s\"intellipat'\n",
    "                              }\n",
    "    def greet(self):\n",
    "        self.name=input(\"what is your name?\\n\")\n",
    "        will_help=input(f\"Hi {self.name},I am Rule-Bot.Will you help me learn about your planet?\\n\")\n",
    "        if will_help in self.negative_responses:\n",
    "            print(\"Ok,have a nice Earth day!\")\n",
    "            self.chat()\n",
    "    def make_exit(self,reply):\n",
    "        if reply in self.exit_commands:\n",
    "            print(\"Okay,have a nice Earth day!\")\n",
    "            return True\n",
    "        return False\n",
    "    def chat(self):\n",
    "        while True:\n",
    "            reply = input(random.choice(self.random_questions) + \"\\n\").lower()\n",
    "            if self.make_exit(reply):\n",
    "                break\n",
    "            response = self.match_reply(reply)\n",
    "            print(response)\n",
    "    def match_reply(self,reply):\n",
    "        for key,value in self.aliembabble.items():\n",
    "            intent=key\n",
    "            regex_pattern=value\n",
    "            found_match=re.match(regex_pattern,reply)\n",
    "            if found_match:\n",
    "                if intent=='describe_planet_intent':\n",
    "                    return self.describe_planet_intent()\n",
    "                elif intent=='answer_why_intent':\n",
    "                    return self.answer_why_intent()\n",
    "                elif intent=='about_intellipaat':\n",
    "                    return self.about_intellipaat()\n",
    "        return self.no_match_intent()\n",
    "    def describe_planet_intent(self):\n",
    "        responses=[\"My planet is a utopia of diverse organisms and species.\\n \",\n",
    "                    \"I am from Opidipus, the capital of the wayward Galaxies.\\n\"]\n",
    "        return random.choice(responses)\n",
    "    def answer_why_intent(self):\n",
    "        responses=[\"I come in peace\\n\",\"I am here to collect data on your planet and its In habiitants\\n\",\n",
    "                   \"I heard the coffee is good\\n\"]\n",
    "        return random.choice(responses)\n",
    "    def about_intellipaat(self):\n",
    "        responses=[\"Intellipaat is world's largest professional educational company\\n\",\n",
    "                   \"Intellipaat will make you learn new concepts you never learn\\n\",\n",
    "                    \"Intellipaat is where your career and skill grow\\n\"]\n",
    "        return random.choice(responses)\n",
    "    def no_match_intent(self):\n",
    "        responses=[\"Please tell me more.\\n\",\n",
    "                   \"Tell me more!\\n\",\n",
    "                   \"Why do u say that?\\n\",\n",
    "                   \"I see,Can you elaborate?\\n\",\n",
    "                   \"Interesting.Can you tell me more?\\n\",\n",
    "                   \"I see,How do you think?\\n\",\n",
    "                   \"why?\\n\",\n",
    "                   \"How do you think I feel when you say that?\\n\"]\n",
    "        return random.choice(responses)\n",
    "AlienBot=RuleBot()\n",
    "AlienBot.greet()"
   ]
  },
  {
   "cell_type": "code",
   "execution_count": null,
   "id": "54291557-5570-4f7d-a673-836c038bd2c1",
   "metadata": {},
   "outputs": [],
   "source": []
  }
 ],
 "metadata": {
  "kernelspec": {
   "display_name": "Python 3 (ipykernel)",
   "language": "python",
   "name": "python3"
  },
  "language_info": {
   "codemirror_mode": {
    "name": "ipython",
    "version": 3
   },
   "file_extension": ".py",
   "mimetype": "text/x-python",
   "name": "python",
   "nbconvert_exporter": "python",
   "pygments_lexer": "ipython3",
   "version": "3.11.7"
  }
 },
 "nbformat": 4,
 "nbformat_minor": 5
}
